{
 "cells": [
  {
   "cell_type": "code",
   "execution_count": 11,
   "metadata": {},
   "outputs": [],
   "source": [
    "import pandas as pd\n",
    "from datetime import datetime\n",
    "import dash\n",
    "import plotly.graph_objects as go\n",
    "import dash_core_components as dcc\n",
    "import dash_html_components as html\n",
    "from dash.dependencies import Input, Output, State\n",
    "import plotly.express as px\n",
    "import json\n",
    "from dash import Dash\n",
    "\n"
   ]
  },
  {
   "cell_type": "code",
   "execution_count": 12,
   "metadata": {},
   "outputs": [],
   "source": [
    "#load dataset\n",
    "df = pd.read_csv(\"covid_country_data_perc.csv\", index_col=0, na_filter=False, parse_dates=['Year-Month'], dtype={\"Country/Region\": str})\n",
    "\n",
    "with open('/Users/keke/Desktop/Data-Visualization/countries.geojson') as response:\n",
    "    counties = json.load(response)\n",
    "\n"
   ]
  },
  {
   "cell_type": "code",
   "execution_count": 13,
   "metadata": {},
   "outputs": [],
   "source": [
    "app = dash.Dash()"
   ]
  },
  {
   "cell_type": "code",
   "execution_count": 15,
   "metadata": {},
   "outputs": [],
   "source": [
    "app.layout = html.Div(children = [\n",
    "    # title\n",
    "    html.H1('Covid Cases Visualization Dashboard',\n",
    "           style={\n",
    "            'textAlign': 'center',\n",
    "            'color': \"black\"\n",
    "    }),\n",
    "\n",
    "\n",
    "    ############################################ block1: map radio items\n",
    "    html.Div([\n",
    "        html.H2(\"Covid Cases Map\", style={'textAlign': 'center'}),\n",
    "        dcc.RadioItems(id=\"slct_year\",\n",
    "                 options=[\n",
    "                     {\"label\": \"Confirmed Case\", \"value\": \"Confirmed_Case\"},\n",
    "                     {\"label\": \"Deaths Case\", \"value\": \"Deaths_Case\"},\n",
    "                     {\"label\": \"Recovered Case\", \"value\": \"Recovered_Case\"}],\n",
    "                 value=\"Confirmed_Case\",\n",
    "                 #labelStyle={'display': 'flex'}\n",
    "                 labelStyle={\n",
    "                    'display': 'flex',\n",
    "                    'margin-right': '10px',\n",
    "                    'font-weight': 500\n",
    "                 },\n",
    "    ),\n",
    "    html.Div(id='output_container', children=[]),\n",
    "    html.Br(),\n",
    "\n",
    "    dcc.Graph(id='my_bee_map', figure={})\n",
    "\n",
    "])])\n",
    "\n"
   ]
  },
  {
   "cell_type": "code",
   "execution_count": 16,
   "metadata": {},
   "outputs": [],
   "source": [
    "@app.callback(\n",
    "    [Output(component_id='output_container', component_property='children'),\n",
    "    Output(component_id='my_bee_map', component_property='figure')],\n",
    "    [Input(component_id='slct_year', component_property='value')])\n",
    "\n",
    "\n",
    "def update_graph(option_slctd):\n",
    "    #print(option_slctd)\n",
    "    #print(type(option_slctd))\n",
    "\n",
    "    container = \"The type chosen by user was: {}\".format(option_slctd)\n",
    "\n",
    "    map_data = df.copy()\n",
    "    map_data = map_data.groupby(['Country/Region'])[[option_slctd]].max()\n",
    "\n",
    "    map_data.index.name = \"Country/Region\"\n",
    "    map_data.reset_index(inplace=True)\n",
    "    map_data_final = map_data.rename(columns={'Country/Region': 'Country'})\n",
    "\n",
    "    fig = px.choropleth(map_data_final, geojson=counties, locations='Country', color=option_slctd,featureidkey=\"properties.ADMIN\",\n",
    "                           color_continuous_scale=\"Viridis\",\n",
    "                           #range_color=(0, 12),\n",
    "                           scope=\"world\",\n",
    "                           labels={option_slctd:'Case'}\n",
    "                          )\n",
    "    fig.update_layout(margin={\"r\":0,\"t\":0,\"l\":0,\"b\":0})\n",
    "\n",
    "    return container, fig\n",
    "\n"
   ]
  },
  {
   "cell_type": "code",
   "execution_count": null,
   "metadata": {},
   "outputs": [],
   "source": []
  },
  {
   "cell_type": "code",
   "execution_count": null,
   "metadata": {},
   "outputs": [],
   "source": []
  },
  {
   "cell_type": "code",
   "execution_count": null,
   "metadata": {},
   "outputs": [],
   "source": []
  },
  {
   "cell_type": "code",
   "execution_count": 20,
   "metadata": {},
   "outputs": [
    {
     "name": "stdout",
     "output_type": "stream",
     "text": [
      "Dash is running on http://127.0.0.1:8050/\n",
      "\n",
      "Dash is running on http://127.0.0.1:8050/\n",
      "\n",
      " * Serving Flask app \"__main__\" (lazy loading)\n",
      " * Environment: production\n",
      "\u001b[31m   WARNING: This is a development server. Do not use it in a production deployment.\u001b[0m\n",
      "\u001b[2m   Use a production WSGI server instead.\u001b[0m\n",
      " * Debug mode: on\n"
     ]
    },
    {
     "name": "stderr",
     "output_type": "stream",
     "text": [
      "/Library/Frameworks/Python.framework/Versions/3.9/lib/python3.9/site-packages/traitlets/traitlets.py:2196: FutureWarning: Supporting extra quotes around Unicode is deprecated in traitlets 5.0. Use 'hmac-sha256' instead of '\"hmac-sha256\"' – or use CUnicode.\n",
      "  warn(\n",
      "/Library/Frameworks/Python.framework/Versions/3.9/lib/python3.9/site-packages/traitlets/traitlets.py:2151: FutureWarning: Supporting extra quotes around Bytes is deprecated in traitlets 5.0. Use '621ea4f6-6695-4422-a1fe-3cec3c5b9561' instead of 'b\"621ea4f6-6695-4422-a1fe-3cec3c5b9561\"'.\n",
      "  warn(\n",
      "Traceback (most recent call last):\n",
      "  File \"/Users/keke/Library/Python/3.9/lib/python/site-packages/debugpy/_vendored/pydevd/pydevd.py\", line 3311, in <module>\n",
      "    main()\n",
      "  File \"/Users/keke/Library/Python/3.9/lib/python/site-packages/debugpy/_vendored/pydevd/pydevd.py\", line 3304, in main\n",
      "    globals = debugger.run(setup['file'], None, None, is_module)\n",
      "  File \"/Users/keke/Library/Python/3.9/lib/python/site-packages/debugpy/_vendored/pydevd/pydevd.py\", line 2371, in run\n",
      "    return self._exec(is_module, entry_point_fn, module_name, file, globals, locals)\n",
      "  File \"/Users/keke/Library/Python/3.9/lib/python/site-packages/debugpy/_vendored/pydevd/pydevd.py\", line 2378, in _exec\n",
      "    pydev_imports.execfile(file, globals, locals)  # execute the script\n",
      "  File \"/Users/keke/Library/Python/3.9/lib/python/site-packages/debugpy/_vendored/pydevd/_pydev_imps/_pydev_execfile.py\", line 25, in execfile\n",
      "    exec(compile(contents + \"\\n\", file, 'exec'), glob, loc)\n",
      "  File \"/Users/keke/Library/Python/3.9/lib/python/site-packages/ipykernel_launcher.py\", line 16, in <module>\n",
      "    app.launch_new_instance()\n",
      "  File \"/Library/Frameworks/Python.framework/Versions/3.9/lib/python3.9/site-packages/traitlets/config/application.py\", line 844, in launch_instance\n",
      "    app.initialize(argv)\n",
      "  File \"/Library/Frameworks/Python.framework/Versions/3.9/lib/python3.9/site-packages/traitlets/config/application.py\", line 87, in inner\n",
      "    return method(app, *args, **kwargs)\n",
      "  File \"/Users/keke/Library/Python/3.9/lib/python/site-packages/ipykernel/kernelapp.py\", line 622, in initialize\n",
      "    self.init_sockets()\n",
      "  File \"/Users/keke/Library/Python/3.9/lib/python/site-packages/ipykernel/kernelapp.py\", line 275, in init_sockets\n",
      "    self.shell_port = self._bind_socket(self.shell_socket, self.shell_port)\n",
      "  File \"/Users/keke/Library/Python/3.9/lib/python/site-packages/ipykernel/kernelapp.py\", line 222, in _bind_socket\n",
      "    return self._try_bind_socket(s, port)\n",
      "  File \"/Users/keke/Library/Python/3.9/lib/python/site-packages/ipykernel/kernelapp.py\", line 198, in _try_bind_socket\n",
      "    s.bind(\"tcp://%s:%i\" % (self.ip, port))\n",
      "  File \"/Library/Frameworks/Python.framework/Versions/3.9/lib/python3.9/site-packages/zmq/sugar/socket.py\", line 172, in bind\n",
      "    super().bind(addr)\n",
      "  File \"zmq/backend/cython/socket.pyx\", line 540, in zmq.backend.cython.socket.Socket.bind\n",
      "  File \"zmq/backend/cython/checkrc.pxd\", line 28, in zmq.backend.cython.checkrc._check_rc\n",
      "zmq.error.ZMQError: Address already in use\n"
     ]
    },
    {
     "ename": "SystemExit",
     "evalue": "1",
     "output_type": "error",
     "traceback": [
      "An exception has occurred, use %tb to see the full traceback.\n",
      "\u001b[0;31mSystemExit\u001b[0m\u001b[0;31m:\u001b[0m 1\n"
     ]
    },
    {
     "name": "stderr",
     "output_type": "stream",
     "text": [
      "/Users/keke/Library/Python/3.9/lib/python/site-packages/IPython/core/interactiveshell.py:3449: UserWarning: To exit: use 'exit', 'quit', or Ctrl-D.\n",
      "  warn(\"To exit: use 'exit', 'quit', or Ctrl-D.\", stacklevel=1)\n"
     ]
    }
   ],
   "source": [
    "\n",
    "\n",
    "if __name__ == '__main__':\n",
    "    app.run_server(debug=True)"
   ]
  }
 ],
 "metadata": {
  "interpreter": {
   "hash": "7812ea015bdcee6f23a998adcdd2ef97c151c0c241b7b7070987d9313e41299d"
  },
  "kernelspec": {
   "display_name": "Python 3.9.1 64-bit",
   "language": "python",
   "name": "python3"
  },
  "language_info": {
   "codemirror_mode": {
    "name": "ipython",
    "version": 3
   },
   "file_extension": ".py",
   "mimetype": "text/x-python",
   "name": "python",
   "nbconvert_exporter": "python",
   "pygments_lexer": "ipython3",
   "version": "3.9.7"
  },
  "orig_nbformat": 4
 },
 "nbformat": 4,
 "nbformat_minor": 2
}
